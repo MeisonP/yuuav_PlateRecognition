{
 "cells": [
  {
   "cell_type": "code",
   "execution_count": 9,
   "metadata": {},
   "outputs": [
    {
     "name": "stdout",
     "output_type": "stream",
     "text": [
      "2.jpg\n"
     ]
    }
   ],
   "source": [
    "#decoding: utf-8\n",
    "#encoding: utf-8\n",
    "\n",
    "#openCV transform C++ code to python\n",
    "import cv2 as cv\n",
    "from imutils import paths\n",
    "import os\n",
    "\n",
    "path=\"~/Desktop/a/2.jpg\"\n",
    "name=os.path.split(path)[]\n",
    "print name\n",
    "\n"
   ]
  },
  {
   "cell_type": "code",
   "execution_count": null,
   "metadata": {},
   "outputs": [],
   "source": [
    "#encoding:utf-8  \n",
    "import cv2  \n",
    "img=cv2.imread(\"./1.jpg\")  \n",
    "gray = cv2.cvtColor(img,cv2.COLOR_BGR2GRAY)  \n",
    "#gray=cv2.GaussianBlur(gray, (3, 3), 0)  \n",
    "#gray=cv2.Canny(gray,100,300)  \n",
    "ret, binary = cv2.threshold(gray,127,255,cv2.THRESH_BINARY)  \n",
    "\n",
    "binary,contours,hierarchy= cv2.findContours(binary,cv2.RETR_TREE,cv2.CHAIN_APPROX_SIMPLE)  \n",
    "cv2.drawContours(img,contours,-1,(0,0,255),3)  \n",
    "#print(contours[0])  \n",
    "cv2.imshow(\"0\",binary)  \n",
    "#cv2.imshow(\"win10\",img)  \n",
    "cv2.waitKey(0)  \n"
   ]
  },
  {
   "cell_type": "code",
   "execution_count": null,
   "metadata": {},
   "outputs": [],
   "source": [
    "import cv2  \n",
    "import numpy as np \n",
    "img = cv2.imread('./1.png')  \n",
    "gray = cv2.cvtColor(img,cv2.COLOR_BGR2GRAY)\n",
    "ret, binary = cv2.threshold(gray,127,255,cv2.THRESH_BINARY)  \n",
    "  \n",
    "binary,contours, hierarchy = cv2.findContours(binary,cv2.RETR_TREE,cv2.CHAIN_APPROX_SIMPLE)  \n",
    "#print contours\n",
    "contours_update=[]\n",
    "\n",
    "N= np.array(contours).shape[0]\n",
    "update=[]\n",
    "#cv2.drawContours(img,contours,-1,(0,255,0),3) \n",
    "\n",
    "rect = cv2.minAreaRect(contours[1])\n",
    "update.append(contours[1])\n",
    "contours_update.append(rect)\n",
    "box = cv2.boxPoints(rect)\n",
    "\n",
    "box = np.int0(box)\n",
    "cv2.drawContours(img, [box], 0, (0, 0,255), 3)\n",
    "print box\n",
    "points=box\n",
    "left_min=min(points[0][0],points[1][0],points[2][0],points[3][0])\n",
    "right_max=max(points[0][0],points[1][0],points[2][0],points[3][0])\n",
    "up_max=max(points[0][1],points[1][1],points[2][1],points[3][1])\n",
    "down_min=min(points[0][1],points[1][1],points[2][1],points[3][1])\n",
    "CutImage=img[down_min:up_max,left_min:right_max]\n",
    "img=CutImage\n",
    "print left_min,right_max,down_min,up_max\n",
    "#image=cv2.resize(img,(450,900),interpolation=cv2.INTER_AREA)\n",
    "\n",
    "#print update\n",
    "cv2.imshow('', img)\n",
    "cv2.waitKey(0)# the number of windows"
   ]
  },
  {
   "cell_type": "code",
   "execution_count": 11,
   "metadata": {},
   "outputs": [
    {
     "name": "stdout",
     "output_type": "stream",
     "text": [
      "[[0 0 0 ... 0 0 0]\n",
      " [0 0 0 ... 0 0 0]\n",
      " [0 0 0 ... 0 0 0]\n",
      " ...\n",
      " [0 0 0 ... 0 0 0]\n",
      " [0 0 0 ... 0 0 0]\n",
      " [0 0 0 ... 0 0 0]]\n",
      "[[0 0 0 ... 0 0 0]\n",
      " [0 0 0 ... 0 0 0]\n",
      " [0 0 0 ... 0 0 0]\n",
      " ...\n",
      " [0 0 0 ... 0 0 0]\n",
      " [0 0 0 ... 0 0 0]\n",
      " [0 0 0 ... 0 0 0]]\n"
     ]
    }
   ],
   "source": [
    "import cv2  \n",
    "import numpy as np \n",
    "img = cv2.imread('./1.png')  \n",
    "gray = cv2.cvtColor(img,cv2.COLOR_BGR2GRAY)\n",
    "M=np.mat(gray)\n",
    "print M\n",
    "print  M.getA()"
   ]
  },
  {
   "cell_type": "code",
   "execution_count": 51,
   "metadata": {},
   "outputs": [
    {
     "name": "stdout",
     "output_type": "stream",
     "text": [
      "(1, 540, 864, 3)\n",
      "(2, 540, 864, 3)\n"
     ]
    }
   ],
   "source": [
    "#encoding:utf-8  \n",
    "import cv2  \n",
    "import numpy as np\n",
    "res=[]\n",
    "\n",
    "img=cv2.imread(\"./1.jpg\") \n",
    "res.append(img)\n",
    "a=np.array(res)\n",
    "print a.shape\n",
    "res.append(img)\n",
    "b=np.array(res)\n",
    "print b.shape"
   ]
  },
  {
   "cell_type": "code",
   "execution_count": 13,
   "metadata": {},
   "outputs": [],
   "source": [
    "#coding: utf-8\n",
    "\n",
    "#Laplace\n",
    "\n",
    "import cv2 \n",
    "import numpy as np\n",
    "\n",
    "def show(image,name):\n",
    "    cv2.imshow('%s'%name,image)\n",
    "    cv2.waitKey(0)\n",
    "\n",
    "    \n",
    "def save_image(image,name):\n",
    "    path_out=path+name+'.jpg'\n",
    "    cv2.imwrite(path_out,image)\n",
    "\n",
    "def Edge(path):#should input binary image\n",
    "    #calculation\n",
    "    image=cv2.imread(path,cv2.CV_8UC1) \n",
    "    binary,contours, hierarchy = cv2.findContours(image,cv2.RETR_EXTERNAL,cv2.CHAIN_APPROX_NONE) \n",
    "    #in open CV3， findContours return 3 value; so my version is openCV3\n",
    "\n",
    "    #draw boundary on the image\n",
    "    image=cv2.drawContours(image,contours,-1,(0,0,255),3)#-1:draw all edge;  3:line width；（0，0，255):RGB color scaler\n",
    "    image_Edge=image\n",
    "    return image_Edge,contours #outpur contours is a array,\n",
    "\n",
    "#不相连的轮廓求最小外界矩形,并添加到原图中\n",
    "def draw_Min_Rect(image,contours):\n",
    "    N= np.array(contours).shape[0]\n",
    "    for i in range (0,N):\n",
    "        min_=cv2.minAreaRect(contours[i])\n",
    "        box = cv2.boxPoints(min_) \n",
    "        box = np.int0(box)\n",
    "        cv2.drawContours(image, [box], 0, (0,0,255), 3)\n",
    "    #cv.imshow('0', image)\n",
    "    #cv.waitKey(0)# the number of windows\n",
    "    image_with_MinRect=image\n",
    "    return image_with_MinRect\n",
    "def Binary(image):\n",
    "    # for binary type, donot need :MaxvalMaxval=conf.getint('Binary', 'value')# set to be that value, \n",
    "    return_value,image_Binary=cv2.threshold(image,127,255,cv2.THRESH_BINARY_INV)\n",
    "    return image_Binary\n",
    "\n",
    "\n",
    "\n",
    "img = cv2.imread(\"./image_preprocess/char_seg.jpg\",)  \n",
    "path='./image_preprocess/'\n",
    "\n",
    "image_Guass=cv2.GaussianBlur(img, (5, 5), 2)\n",
    "iamge_Gary=cv2.cvtColor(image_Guass, cv2.COLOR_BGR2GRAY)\n",
    "image_Binary=Binary(iamge_Gary)\n",
    "\n",
    "save_image(image_Binary,'image_Binary')\n",
    "\n",
    "\n",
    "\n",
    "\n",
    "\n",
    "#gray_lap = cv2.Laplacian(img,cv2.CV_16S,ksize = 3)\n",
    "\n",
    "#dst = cv2.convertScaleAbs(gray_lap) \n",
    "#save_image(dst,\"dst\")\n",
    "\n",
    "\n",
    "#image_Edge,contours=Edge('./image_preprocess/dst.jpg')\n",
    "\n",
    "#image_with_MinRect=draw_Min_Rect(img,contours)\n",
    "\n"
   ]
  },
  {
   "cell_type": "code",
   "execution_count": null,
   "metadata": {},
   "outputs": [],
   "source": []
  },
  {
   "cell_type": "code",
   "execution_count": null,
   "metadata": {},
   "outputs": [],
   "source": []
  }
 ],
 "metadata": {
  "kernelspec": {
   "display_name": "Python 2",
   "language": "python",
   "name": "python2"
  },
  "language_info": {
   "codemirror_mode": {
    "name": "ipython",
    "version": 2
   },
   "file_extension": ".py",
   "mimetype": "text/x-python",
   "name": "python",
   "nbconvert_exporter": "python",
   "pygments_lexer": "ipython2",
   "version": "2.7.14"
  }
 },
 "nbformat": 4,
 "nbformat_minor": 2
}
