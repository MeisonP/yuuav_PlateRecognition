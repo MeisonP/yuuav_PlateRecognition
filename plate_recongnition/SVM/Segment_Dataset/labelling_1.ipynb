{
 "cells": [
  {
   "cell_type": "code",
   "execution_count": null,
   "metadata": {},
   "outputs": [],
   "source": [
    "#coding:utf-8\n",
    "#used for label extraction\n",
    "#2018.06.06\n",
    "#+zh_char:(path_zh)\n",
    "#+----name=川，湘，...(path_zh_folder)\n",
    "#+--------file_=**.jpg....(dir)\n",
    "#\n",
    "import os, sys, stat\n",
    "import pandas as pd\n",
    "import numpy as np\n",
    "path_zh='./train_data/zh_char/'\n",
    "path_ch='./train_data/ch_/'\n",
    "path_alphabet='./train_data/alphabet_number/'\n",
    "path_num='./train_data/number_/'\n",
    "\n",
    "\n",
    "#reset image file name\n",
    "zh_=os.listdir(path_zh)#all file/folder in path\n",
    "for name in np.array(zh_):\n",
    "    path_zh_folder=path_zh+name\n",
    "    #os.chmod(path_zh_folder,stat.S_IRWXU)\n",
    "    filelist=os.listdir(path_zh_folder)#image files name in zh_folder,image name+.jpg\n",
    "    i=0\n",
    "    for file_ in np.array(filelist):\n",
    "        olddir=os.path.join(path_zh_folder,file_)\n",
    "        filename=os.path.splitext(file_)[0]\n",
    "        filetype=os.path.splitext(file_)[1]\n",
    "        newdir=os.path.join(path_ch,\"%s_\"%name+str(i)+filetype)\n",
    "        os.rename(olddir,newdir)\n",
    "        i=i+1\n",
    "\n"
   ]
  },
  {
   "cell_type": "code",
   "execution_count": 2,
   "metadata": {},
   "outputs": [],
   "source": [
    "#coding:utf-8\n",
    "#write label into txt\n",
    "#2018.06.06 \n",
    "import os \n",
    "\n",
    "path_ch='./test_data/ch_/'\n",
    "path_number='./test_data/number_'\n",
    "\n",
    "with open (\"./test_data/test_label_ch.txt\",'a') as f:\n",
    "    filelist=os.listdir(path_ch)\n",
    "    for file_ in filelist:\n",
    "        filename=os.path.splitext(file_)[0]\n",
    "        label=filename[0:3]#eg one chinese char\n",
    "        filetype=os.path.splitext(file_)[1]\n",
    "        f.write(filename+':'+label+'\\n')\n",
    "\n",
    "\n"
   ]
  },
  {
   "cell_type": "code",
   "execution_count": null,
   "metadata": {},
   "outputs": [],
   "source": []
  }
 ],
 "metadata": {
  "kernelspec": {
   "display_name": "Python 2",
   "language": "python",
   "name": "python2"
  },
  "language_info": {
   "codemirror_mode": {
    "name": "ipython",
    "version": 2
   },
   "file_extension": ".py",
   "mimetype": "text/x-python",
   "name": "python",
   "nbconvert_exporter": "python",
   "pygments_lexer": "ipython2",
   "version": "2.7.15"
  }
 },
 "nbformat": 4,
 "nbformat_minor": 2
}
